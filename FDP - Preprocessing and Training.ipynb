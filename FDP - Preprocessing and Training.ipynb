{
 "cells": [
  {
   "cell_type": "markdown",
   "id": "e6e62d3d",
   "metadata": {},
   "source": [
    "### Import Libraries"
   ]
  },
  {
   "cell_type": "code",
   "execution_count": 99,
   "id": "a829acbe",
   "metadata": {},
   "outputs": [],
   "source": [
    "import pandas as pd\n",
    "import numpy as np\n",
    "from sklearn.preprocessing import StandardScaler\n",
    "from sklearn.model_selection import train_test_split\n",
    "\n",
    "import matplotlib.pyplot as plt\n",
    "import seaborn as sns"
   ]
  },
  {
   "cell_type": "markdown",
   "id": "e4886f5b",
   "metadata": {},
   "source": [
    "### Load Cleaned Dataset"
   ]
  },
  {
   "cell_type": "code",
   "execution_count": 100,
   "id": "7a9a0901",
   "metadata": {},
   "outputs": [
    {
     "name": "stdout",
     "output_type": "stream",
     "text": [
      "Data preview:\n"
     ]
    },
    {
     "data": {
      "text/html": [
       "<div>\n",
       "<style scoped>\n",
       "    .dataframe tbody tr th:only-of-type {\n",
       "        vertical-align: middle;\n",
       "    }\n",
       "\n",
       "    .dataframe tbody tr th {\n",
       "        vertical-align: top;\n",
       "    }\n",
       "\n",
       "    .dataframe thead th {\n",
       "        text-align: right;\n",
       "    }\n",
       "</style>\n",
       "<table border=\"1\" class=\"dataframe\">\n",
       "  <thead>\n",
       "    <tr style=\"text-align: right;\">\n",
       "      <th></th>\n",
       "      <th>year</th>\n",
       "      <th>month</th>\n",
       "      <th>carrier</th>\n",
       "      <th>carrier_name</th>\n",
       "      <th>airport</th>\n",
       "      <th>airport_name</th>\n",
       "      <th>arr_flights</th>\n",
       "      <th>arr_del15</th>\n",
       "      <th>carrier_ct</th>\n",
       "      <th>weather_ct</th>\n",
       "      <th>...</th>\n",
       "      <th>security_ct</th>\n",
       "      <th>late_aircraft_ct</th>\n",
       "      <th>arr_cancelled</th>\n",
       "      <th>arr_diverted</th>\n",
       "      <th>arr_delay</th>\n",
       "      <th>carrier_delay</th>\n",
       "      <th>weather_delay</th>\n",
       "      <th>nas_delay</th>\n",
       "      <th>security_delay</th>\n",
       "      <th>late_aircraft_delay</th>\n",
       "    </tr>\n",
       "  </thead>\n",
       "  <tbody>\n",
       "    <tr>\n",
       "      <th>0</th>\n",
       "      <td>2023</td>\n",
       "      <td>8</td>\n",
       "      <td>9E</td>\n",
       "      <td>Endeavor Air Inc.</td>\n",
       "      <td>ABE</td>\n",
       "      <td>Allentown/Bethlehem/Easton, PA: Lehigh Valley ...</td>\n",
       "      <td>89.0</td>\n",
       "      <td>13.0</td>\n",
       "      <td>2.25</td>\n",
       "      <td>1.60</td>\n",
       "      <td>...</td>\n",
       "      <td>0.0</td>\n",
       "      <td>5.99</td>\n",
       "      <td>2.0</td>\n",
       "      <td>1.0</td>\n",
       "      <td>1375.0</td>\n",
       "      <td>71.0</td>\n",
       "      <td>761.0</td>\n",
       "      <td>118.0</td>\n",
       "      <td>0.0</td>\n",
       "      <td>425.0</td>\n",
       "    </tr>\n",
       "    <tr>\n",
       "      <th>1</th>\n",
       "      <td>2023</td>\n",
       "      <td>8</td>\n",
       "      <td>9E</td>\n",
       "      <td>Endeavor Air Inc.</td>\n",
       "      <td>ABY</td>\n",
       "      <td>Albany, GA: Southwest Georgia Regional</td>\n",
       "      <td>62.0</td>\n",
       "      <td>10.0</td>\n",
       "      <td>1.97</td>\n",
       "      <td>0.04</td>\n",
       "      <td>...</td>\n",
       "      <td>0.0</td>\n",
       "      <td>7.42</td>\n",
       "      <td>0.0</td>\n",
       "      <td>1.0</td>\n",
       "      <td>799.0</td>\n",
       "      <td>218.0</td>\n",
       "      <td>1.0</td>\n",
       "      <td>62.0</td>\n",
       "      <td>0.0</td>\n",
       "      <td>518.0</td>\n",
       "    </tr>\n",
       "    <tr>\n",
       "      <th>2</th>\n",
       "      <td>2023</td>\n",
       "      <td>8</td>\n",
       "      <td>9E</td>\n",
       "      <td>Endeavor Air Inc.</td>\n",
       "      <td>AEX</td>\n",
       "      <td>Alexandria, LA: Alexandria International</td>\n",
       "      <td>62.0</td>\n",
       "      <td>10.0</td>\n",
       "      <td>2.73</td>\n",
       "      <td>1.18</td>\n",
       "      <td>...</td>\n",
       "      <td>0.0</td>\n",
       "      <td>4.28</td>\n",
       "      <td>1.0</td>\n",
       "      <td>0.0</td>\n",
       "      <td>766.0</td>\n",
       "      <td>56.0</td>\n",
       "      <td>188.0</td>\n",
       "      <td>78.0</td>\n",
       "      <td>0.0</td>\n",
       "      <td>444.0</td>\n",
       "    </tr>\n",
       "    <tr>\n",
       "      <th>3</th>\n",
       "      <td>2023</td>\n",
       "      <td>8</td>\n",
       "      <td>9E</td>\n",
       "      <td>Endeavor Air Inc.</td>\n",
       "      <td>AGS</td>\n",
       "      <td>Augusta, GA: Augusta Regional at Bush Field</td>\n",
       "      <td>66.0</td>\n",
       "      <td>12.0</td>\n",
       "      <td>3.69</td>\n",
       "      <td>2.27</td>\n",
       "      <td>...</td>\n",
       "      <td>0.0</td>\n",
       "      <td>1.57</td>\n",
       "      <td>1.0</td>\n",
       "      <td>1.0</td>\n",
       "      <td>1397.0</td>\n",
       "      <td>471.0</td>\n",
       "      <td>320.0</td>\n",
       "      <td>388.0</td>\n",
       "      <td>0.0</td>\n",
       "      <td>218.0</td>\n",
       "    </tr>\n",
       "    <tr>\n",
       "      <th>4</th>\n",
       "      <td>2023</td>\n",
       "      <td>8</td>\n",
       "      <td>9E</td>\n",
       "      <td>Endeavor Air Inc.</td>\n",
       "      <td>ALB</td>\n",
       "      <td>Albany, NY: Albany International</td>\n",
       "      <td>92.0</td>\n",
       "      <td>22.0</td>\n",
       "      <td>7.76</td>\n",
       "      <td>0.00</td>\n",
       "      <td>...</td>\n",
       "      <td>0.0</td>\n",
       "      <td>11.28</td>\n",
       "      <td>2.0</td>\n",
       "      <td>0.0</td>\n",
       "      <td>1530.0</td>\n",
       "      <td>628.0</td>\n",
       "      <td>0.0</td>\n",
       "      <td>134.0</td>\n",
       "      <td>0.0</td>\n",
       "      <td>768.0</td>\n",
       "    </tr>\n",
       "  </tbody>\n",
       "</table>\n",
       "<p>5 rows × 21 columns</p>\n",
       "</div>"
      ],
      "text/plain": [
       "   year  month carrier       carrier_name airport  \\\n",
       "0  2023      8      9E  Endeavor Air Inc.     ABE   \n",
       "1  2023      8      9E  Endeavor Air Inc.     ABY   \n",
       "2  2023      8      9E  Endeavor Air Inc.     AEX   \n",
       "3  2023      8      9E  Endeavor Air Inc.     AGS   \n",
       "4  2023      8      9E  Endeavor Air Inc.     ALB   \n",
       "\n",
       "                                        airport_name  arr_flights  arr_del15  \\\n",
       "0  Allentown/Bethlehem/Easton, PA: Lehigh Valley ...         89.0       13.0   \n",
       "1             Albany, GA: Southwest Georgia Regional         62.0       10.0   \n",
       "2           Alexandria, LA: Alexandria International         62.0       10.0   \n",
       "3        Augusta, GA: Augusta Regional at Bush Field         66.0       12.0   \n",
       "4                   Albany, NY: Albany International         92.0       22.0   \n",
       "\n",
       "   carrier_ct  weather_ct  ...  security_ct  late_aircraft_ct  arr_cancelled  \\\n",
       "0        2.25        1.60  ...          0.0              5.99            2.0   \n",
       "1        1.97        0.04  ...          0.0              7.42            0.0   \n",
       "2        2.73        1.18  ...          0.0              4.28            1.0   \n",
       "3        3.69        2.27  ...          0.0              1.57            1.0   \n",
       "4        7.76        0.00  ...          0.0             11.28            2.0   \n",
       "\n",
       "   arr_diverted  arr_delay  carrier_delay  weather_delay  nas_delay  \\\n",
       "0           1.0     1375.0           71.0          761.0      118.0   \n",
       "1           1.0      799.0          218.0            1.0       62.0   \n",
       "2           0.0      766.0           56.0          188.0       78.0   \n",
       "3           1.0     1397.0          471.0          320.0      388.0   \n",
       "4           0.0     1530.0          628.0            0.0      134.0   \n",
       "\n",
       "   security_delay  late_aircraft_delay  \n",
       "0             0.0                425.0  \n",
       "1             0.0                518.0  \n",
       "2             0.0                444.0  \n",
       "3             0.0                218.0  \n",
       "4             0.0                768.0  \n",
       "\n",
       "[5 rows x 21 columns]"
      ]
     },
     "metadata": {},
     "output_type": "display_data"
    }
   ],
   "source": [
    "# Load the cleaned dataset produced in the previous phase\n",
    "df = pd.read_csv(\"Data/airline_delay_cleaned.csv\")\n",
    "print(\"Data preview:\")\n",
    "display(df.head())"
   ]
  },
  {
   "cell_type": "markdown",
   "id": "1951aa38",
   "metadata": {},
   "source": [
    "### Create Delay and Cancellation Rates\n",
    "\n",
    "Adding two important features:\n",
    "\n",
    "- `delay_rate`: Proportion of flights delayed over 15 minutes\n",
    "- `cancel_rate`: Proportion of flights cancelled\n"
   ]
  },
  {
   "cell_type": "code",
   "execution_count": 101,
   "id": "f27e454b",
   "metadata": {},
   "outputs": [],
   "source": [
    "# Delay and cancellation rates\n",
    "df['delay_rate'] = np.where(df['arr_flights'] > 0, df['arr_del15'] / df['arr_flights'], 0)\n",
    "df['cancel_rate'] = np.where(df['arr_flights'] > 0, df['arr_cancelled'] / df['arr_flights'], 0)\n"
   ]
  },
  {
   "cell_type": "markdown",
   "id": "a6c3ada0",
   "metadata": {},
   "source": [
    "### Define Binary Target Variable\n",
    "\n",
    "Each row represents a flight group, aggregated by **carrier**, **airport**, and **month**. The features capture summary statistics for these groups, not individual flights. Thus we need a way to identify / quantify delay as a target for future modeling steps\n",
    "\n",
    "\n",
    "introduce `is_delayed` as classification target:\n",
    "\n",
    "- If a flight group had **any flights delayed over 15 minutes**, it's labeled `1`\n",
    "- Otherwise, it's labeled `0`\n",
    "\n",
    "Crucial target for the model so that we can identify a delayed flight, this feature is a constraint of the data due to having only carrier, airport, and amount of delays as information on a monthly resolution"
   ]
  },
  {
   "cell_type": "code",
   "execution_count": 102,
   "id": "5a323b5c",
   "metadata": {},
   "outputs": [
    {
     "name": "stdout",
     "output_type": "stream",
     "text": [
      "\n",
      "Target value distribution:\n",
      "is_delayed\n",
      "1    0.960403\n",
      "0    0.039597\n",
      "Name: proportion, dtype: float64\n"
     ]
    }
   ],
   "source": [
    "# Target variable: whether the flight group had any delays\n",
    "df['is_delayed'] = (df['arr_del15'] > 0).astype(int)\n",
    "\n",
    "print(\"\\nTarget value distribution:\")\n",
    "print(df['is_delayed'].value_counts(normalize=True))\n"
   ]
  },
  {
   "cell_type": "markdown",
   "id": "e4e25180",
   "metadata": {},
   "source": [
    "If you look above, the is delayed feature picks 96% of the data set as delayed, I want to create this feature, however, we need to add some thresholds or a method for quantifying delays for the model to use later"
   ]
  },
  {
   "cell_type": "markdown",
   "id": "6722f443",
   "metadata": {},
   "source": [
    "### Delay Threshold Testing\n",
    "\n",
    "I wanted to explore how different **combinations of delay rate** and **total delay time** thresholds affect the definition of a \"delayed\" flight group. This helps balance class labels and avoid bias.\n",
    "\n",
    "- `delay_rate`: Proportion of delayed flights in the group\n",
    "- `arr_delay`: Total delay time across all flights in minutes\n",
    "\n",
    "The goal is to find a threshold that:\n",
    "- Represents meaningful delays (not a fluke)\n",
    "- Preserves enough positive cases to train the model\n"
   ]
  },
  {
   "cell_type": "code",
   "execution_count": 103,
   "id": "89bfa242",
   "metadata": {},
   "outputs": [
    {
     "data": {
      "image/png": "[encoded data removed]",
      "text/plain": [
       "<Figure size 1000x600 with 2 Axes>"
      ]
     },
     "metadata": {},
     "output_type": "display_data"
    }
   ],
   "source": [
    "df_thresh_test = df.copy()\n",
    "\n",
    "# Delay thresholds to test\n",
    "delay_rate_thresholds = [0.05, 0.1, 0.15, 0.2, 0.25, 0.3]\n",
    "delay_time_thresholds = [5, 10, 15, 20, 30, 60]\n",
    "\n",
    "# Store results\n",
    "threshold_summary = []\n",
    "\n",
    "# Loop through combinations of thresholds\n",
    "for rate_t in delay_rate_thresholds:\n",
    "    for time_t in delay_time_thresholds:\n",
    "        df['is_delayed_tmp'] = np.where(\n",
    "            (df['delay_rate'] > rate_t) & (df['arr_delay'] > time_t),\n",
    "            1, 0\n",
    "        )\n",
    "        pos_pct = df['is_delayed_tmp'].mean()\n",
    "        threshold_summary.append({\n",
    "            'delay_rate_thresh': rate_t,\n",
    "            'arr_delay_thresh': time_t,\n",
    "            'positive_class_pct': round(pos_pct * 100, 2)\n",
    "        })\n",
    "\n",
    "# Convert to DataFrame\n",
    "threshold_df = pd.DataFrame(threshold_summary)\n",
    "\n",
    "# Pivot for heatmap\n",
    "pivot_table = threshold_df.pivot(\n",
    "    index='delay_rate_thresh',\n",
    "    columns='arr_delay_thresh',\n",
    "    values='positive_class_pct'\n",
    ")\n",
    "\n",
    "# Plot heatmap\n",
    "plt.figure(figsize=(10, 6))\n",
    "sns.heatmap(pivot_table, annot=True, cmap='Blues', fmt=\".1f\")\n",
    "plt.title(\"Positive Class % for Threshold Combinations\")\n",
    "plt.xlabel(\"Total Delay Time Threshold (minutes)\")\n",
    "plt.ylabel(\"Delay Rate Threshold\")\n",
    "plt.tight_layout()\n",
    "plt.show()\n"
   ]
  },
  {
   "cell_type": "markdown",
   "id": "c7245fec",
   "metadata": {},
   "source": [
    "### Delay Label Refinement Using Thresholds\n",
    "\n",
    "I tested different combinations of:\n",
    "\n",
    "- `delay_rate`: proportion of delayed flights\n",
    "- `arr_delay`: total delay time in minutes\n",
    "\n",
    "Using a heatmap, visualized how these thresholds affect class balance.\n",
    "\n",
    "I define a group as delayed if:\n",
    "- More than 15% of its flights were delayed\n",
    "- The total delay time exceeded 15 minutes\n",
    "\n",
    "Although this binary label is applied at the group level (carrier-airport-month), it reflects a strategic abstraction to help identify meaningful delay trends. I needed a way to have the model use a binary classification for delays, it will capture the trends I am looking for at the group level while still maintaining the more granular features that are also important to the models prediction.  "
   ]
  },
  {
   "cell_type": "code",
   "execution_count": 104,
   "id": "2a4e1f02",
   "metadata": {},
   "outputs": [
    {
     "name": "stdout",
     "output_type": "stream",
     "text": [
      "\n",
      "New target value distribution after applying thresholds:\n",
      "is_delayed\n",
      "1    0.584736\n",
      "0    0.415264\n",
      "Name: proportion, dtype: float64\n"
     ]
    },
    {
     "data": {
      "image/png": "[encoded data removed]",
      "text/plain": [
       "<Figure size 640x480 with 1 Axes>"
      ]
     },
     "metadata": {},
     "output_type": "display_data"
    }
   ],
   "source": [
    "# Create final refined is_delayed feature using selected thresholds\n",
    "# Based on the heatmap, we choose: delay_rate > 0.15 AND arr_delay > 15 minutes\n",
    "df['is_delayed'] = np.where(\n",
    "    (df['delay_rate'] > 0.15) & (df['arr_delay'] > 15),\n",
    "    1, 0\n",
    ")\n",
    "\n",
    "print(\"\\nNew target value distribution after applying thresholds:\")\n",
    "print(df['is_delayed'].value_counts(normalize=True))\n",
    "\n",
    "# Optional: Visualize final class balance\n",
    "df['is_delayed'].value_counts(normalize=True).plot(\n",
    "    kind='bar',\n",
    "    title='Final Target Distribution After Thresholding',\n",
    "    ylabel='Proportion'\n",
    ")\n",
    "plt.xticks([0, 1], ['Not Delayed (0)', 'Delayed (1)'], rotation=0)\n",
    "plt.tight_layout()\n",
    "plt.show()"
   ]
  },
  {
   "cell_type": "markdown",
   "id": "d89e3323",
   "metadata": {},
   "source": [
    "After this process we now have a well balanced classification target feature"
   ]
  },
  {
   "cell_type": "markdown",
   "id": "db46aac7",
   "metadata": {},
   "source": [
    "### Normalize Delay Cause Counts\n",
    "\n",
    "Each delay cause (`carrier_ct`, `weather_ct`) is converted to a **rate** of total delayed flights.\n",
    "\n",
    "Helps compare how different issues contributed to delays regardless of volume.\n"
   ]
  },
  {
   "cell_type": "code",
   "execution_count": 105,
   "id": "3ead3a48",
   "metadata": {},
   "outputs": [
    {
     "name": "stdout",
     "output_type": "stream",
     "text": [
      "\n",
      "Sample of engineered ratio features:\n"
     ]
    },
    {
     "data": {
      "text/html": [
       "<div>\n",
       "<style scoped>\n",
       "    .dataframe tbody tr th:only-of-type {\n",
       "        vertical-align: middle;\n",
       "    }\n",
       "\n",
       "    .dataframe tbody tr th {\n",
       "        vertical-align: top;\n",
       "    }\n",
       "\n",
       "    .dataframe thead th {\n",
       "        text-align: right;\n",
       "    }\n",
       "</style>\n",
       "<table border=\"1\" class=\"dataframe\">\n",
       "  <thead>\n",
       "    <tr style=\"text-align: right;\">\n",
       "      <th></th>\n",
       "      <th>carrier_ct_rate</th>\n",
       "      <th>weather_ct_rate</th>\n",
       "      <th>nas_ct_rate</th>\n",
       "      <th>security_ct_rate</th>\n",
       "      <th>late_aircraft_ct_rate</th>\n",
       "    </tr>\n",
       "  </thead>\n",
       "  <tbody>\n",
       "    <tr>\n",
       "      <th>0</th>\n",
       "      <td>0.173077</td>\n",
       "      <td>0.123077</td>\n",
       "      <td>0.243077</td>\n",
       "      <td>0.0</td>\n",
       "      <td>0.460769</td>\n",
       "    </tr>\n",
       "    <tr>\n",
       "      <th>1</th>\n",
       "      <td>0.197000</td>\n",
       "      <td>0.004000</td>\n",
       "      <td>0.057000</td>\n",
       "      <td>0.0</td>\n",
       "      <td>0.742000</td>\n",
       "    </tr>\n",
       "    <tr>\n",
       "      <th>2</th>\n",
       "      <td>0.273000</td>\n",
       "      <td>0.118000</td>\n",
       "      <td>0.180000</td>\n",
       "      <td>0.0</td>\n",
       "      <td>0.428000</td>\n",
       "    </tr>\n",
       "    <tr>\n",
       "      <th>3</th>\n",
       "      <td>0.307500</td>\n",
       "      <td>0.189167</td>\n",
       "      <td>0.372500</td>\n",
       "      <td>0.0</td>\n",
       "      <td>0.130833</td>\n",
       "    </tr>\n",
       "    <tr>\n",
       "      <th>4</th>\n",
       "      <td>0.352727</td>\n",
       "      <td>0.000000</td>\n",
       "      <td>0.134545</td>\n",
       "      <td>0.0</td>\n",
       "      <td>0.512727</td>\n",
       "    </tr>\n",
       "  </tbody>\n",
       "</table>\n",
       "</div>"
      ],
      "text/plain": [
       "   carrier_ct_rate  weather_ct_rate  nas_ct_rate  security_ct_rate  \\\n",
       "0         0.173077         0.123077     0.243077               0.0   \n",
       "1         0.197000         0.004000     0.057000               0.0   \n",
       "2         0.273000         0.118000     0.180000               0.0   \n",
       "3         0.307500         0.189167     0.372500               0.0   \n",
       "4         0.352727         0.000000     0.134545               0.0   \n",
       "\n",
       "   late_aircraft_ct_rate  \n",
       "0               0.460769  \n",
       "1               0.742000  \n",
       "2               0.428000  \n",
       "3               0.130833  \n",
       "4               0.512727  "
      ]
     },
     "metadata": {},
     "output_type": "display_data"
    }
   ],
   "source": [
    "# Delay causes normalized by delayed flights\n",
    "cause_cols = ['carrier_ct', 'weather_ct', 'nas_ct', 'security_ct', 'late_aircraft_ct']\n",
    "for col in cause_cols:\n",
    "    df[f'{col}_rate'] = np.where(df['arr_del15'] > 0, df[col] / df['arr_del15'], 0)\n",
    "\n",
    "print(\"\\nSample of engineered ratio features:\")\n",
    "display(df[[f'{c}_rate' for c in cause_cols]].head())\n"
   ]
  },
  {
   "cell_type": "markdown",
   "id": "175fd50d",
   "metadata": {},
   "source": [
    "### Normalize Delay Durations\n",
    "\n",
    "Normalize each delay duration as a percentage of **total delay time** in minutes.\n",
    "\n",
    "Could provide insight into which causes contributed most significantly to time lost.\n"
   ]
  },
  {
   "cell_type": "code",
   "execution_count": 106,
   "id": "86edff82",
   "metadata": {},
   "outputs": [],
   "source": [
    "# Delay minutes as percentages of total delay\n",
    "delay_cols = ['carrier_delay', 'weather_delay', 'nas_delay', 'security_delay', 'late_aircraft_delay']\n",
    "for col in delay_cols:\n",
    "    df[f'{col}_pct'] = np.where(df['arr_delay'] > 0, df[col] / df['arr_delay'], 0)\n"
   ]
  },
  {
   "cell_type": "markdown",
   "id": "25147931",
   "metadata": {},
   "source": [
    "### Airport Traffic Volume by Month\n",
    "\n",
    "To account for traffic intensity seen in EDA, I compute the total number of flights handled by each airport in each month.\n"
   ]
  },
  {
   "cell_type": "code",
   "execution_count": 107,
   "id": "37d31dc6",
   "metadata": {},
   "outputs": [
    {
     "name": "stdout",
     "output_type": "stream",
     "text": [
      "\n",
      "Preview of airport-month volume feature:\n"
     ]
    },
    {
     "data": {
      "text/html": [
       "<div>\n",
       "<style scoped>\n",
       "    .dataframe tbody tr th:only-of-type {\n",
       "        vertical-align: middle;\n",
       "    }\n",
       "\n",
       "    .dataframe tbody tr th {\n",
       "        vertical-align: top;\n",
       "    }\n",
       "\n",
       "    .dataframe thead th {\n",
       "        text-align: right;\n",
       "    }\n",
       "</style>\n",
       "<table border=\"1\" class=\"dataframe\">\n",
       "  <thead>\n",
       "    <tr style=\"text-align: right;\">\n",
       "      <th></th>\n",
       "      <th>airport_name</th>\n",
       "      <th>month</th>\n",
       "      <th>airport_month_volume</th>\n",
       "    </tr>\n",
       "  </thead>\n",
       "  <tbody>\n",
       "    <tr>\n",
       "      <th>0</th>\n",
       "      <td>Allentown/Bethlehem/Easton, PA: Lehigh Valley ...</td>\n",
       "      <td>8</td>\n",
       "      <td>3300.0</td>\n",
       "    </tr>\n",
       "    <tr>\n",
       "      <th>1</th>\n",
       "      <td>Albany, GA: Southwest Georgia Regional</td>\n",
       "      <td>8</td>\n",
       "      <td>853.0</td>\n",
       "    </tr>\n",
       "    <tr>\n",
       "      <th>2</th>\n",
       "      <td>Alexandria, LA: Alexandria International</td>\n",
       "      <td>8</td>\n",
       "      <td>2572.0</td>\n",
       "    </tr>\n",
       "    <tr>\n",
       "      <th>3</th>\n",
       "      <td>Augusta, GA: Augusta Regional at Bush Field</td>\n",
       "      <td>8</td>\n",
       "      <td>3161.0</td>\n",
       "    </tr>\n",
       "    <tr>\n",
       "      <th>4</th>\n",
       "      <td>Albany, NY: Albany International</td>\n",
       "      <td>8</td>\n",
       "      <td>9776.0</td>\n",
       "    </tr>\n",
       "  </tbody>\n",
       "</table>\n",
       "</div>"
      ],
      "text/plain": [
       "                                        airport_name  month  \\\n",
       "0  Allentown/Bethlehem/Easton, PA: Lehigh Valley ...      8   \n",
       "1             Albany, GA: Southwest Georgia Regional      8   \n",
       "2           Alexandria, LA: Alexandria International      8   \n",
       "3        Augusta, GA: Augusta Regional at Bush Field      8   \n",
       "4                   Albany, NY: Albany International      8   \n",
       "\n",
       "   airport_month_volume  \n",
       "0                3300.0  \n",
       "1                 853.0  \n",
       "2                2572.0  \n",
       "3                3161.0  \n",
       "4                9776.0  "
      ]
     },
     "metadata": {},
     "output_type": "display_data"
    }
   ],
   "source": [
    "df['airport_month_volume'] = df.groupby(['airport_name', 'month'])['arr_flights'].transform('sum')\n",
    "\n",
    "print(\"\\nPreview of airport-month volume feature:\")\n",
    "display(df[['airport_name', 'month', 'airport_month_volume']].drop_duplicates().head())\n"
   ]
  },
  {
   "cell_type": "markdown",
   "id": "1b480338",
   "metadata": {},
   "source": [
    "### Add Seasonal Label\n",
    "\n",
    "Adding a `season` column to group months into broader seasonal categories.\n",
    "\n",
    "This allows the model to capture **seasonal effects** on delays.\n"
   ]
  },
  {
   "cell_type": "code",
   "execution_count": 108,
   "id": "af066b4f",
   "metadata": {},
   "outputs": [
    {
     "name": "stdout",
     "output_type": "stream",
     "text": [
      "\n",
      "Season value counts:\n",
      "season\n",
      "Summer    44148\n",
      "Winter    42657\n",
      "Spring    42607\n",
      "Fall      42014\n",
      "Name: count, dtype: int64\n"
     ]
    }
   ],
   "source": [
    "def map_season(m):\n",
    "    return ('Winter' if m in [12, 1, 2] else\n",
    "            'Spring' if m in [3, 4, 5] else\n",
    "            'Summer' if m in [6, 7, 8] else\n",
    "            'Fall')\n",
    "\n",
    "df['season'] = df['month'].apply(map_season)\n",
    "\n",
    "print(\"\\nSeason value counts:\")\n",
    "print(df['season'].value_counts())\n"
   ]
  },
  {
   "cell_type": "markdown",
   "id": "2c6d441f",
   "metadata": {},
   "source": [
    "### One-Hot Encode Categorical Features\n",
    "\n",
    "- `carrier_name`\n",
    "- `airport_name`\n",
    "- `month`\n",
    "- `season`\n"
   ]
  },
  {
   "cell_type": "code",
   "execution_count": 109,
   "id": "71f239ca",
   "metadata": {},
   "outputs": [
    {
     "name": "stdout",
     "output_type": "stream",
     "text": [
      "\n",
      "Final dataset shape after one-hot encoding: (171426, 483)\n"
     ]
    }
   ],
   "source": [
    "df = pd.get_dummies(df, columns=['carrier_name', 'airport_name', 'month', 'season'], drop_first=True)\n",
    "\n",
    "print(f\"\\nFinal dataset shape after one-hot encoding: {df.shape}\")\n"
   ]
  },
  {
   "cell_type": "markdown",
   "id": "7bca9922",
   "metadata": {},
   "source": [
    "### Feature Scaling\n",
    "\n",
    "Applying standard scaling to numeric features to ensure they are on the same scale for the model.  "
   ]
  },
  {
   "cell_type": "code",
   "execution_count": 110,
   "id": "1866dbf8",
   "metadata": {},
   "outputs": [
    {
     "name": "stdout",
     "output_type": "stream",
     "text": [
      "\n",
      "Scaled numerical feature preview:\n"
     ]
    },
    {
     "data": {
      "text/html": [
       "<div>\n",
       "<style scoped>\n",
       "    .dataframe tbody tr th:only-of-type {\n",
       "        vertical-align: middle;\n",
       "    }\n",
       "\n",
       "    .dataframe tbody tr th {\n",
       "        vertical-align: top;\n",
       "    }\n",
       "\n",
       "    .dataframe thead th {\n",
       "        text-align: right;\n",
       "    }\n",
       "</style>\n",
       "<table border=\"1\" class=\"dataframe\">\n",
       "  <thead>\n",
       "    <tr style=\"text-align: right;\">\n",
       "      <th></th>\n",
       "      <th>arr_flights</th>\n",
       "      <th>arr_delay</th>\n",
       "      <th>delay_rate</th>\n",
       "      <th>cancel_rate</th>\n",
       "      <th>airport_month_volume</th>\n",
       "      <th>carrier_ct_rate</th>\n",
       "      <th>weather_ct_rate</th>\n",
       "      <th>nas_ct_rate</th>\n",
       "      <th>security_ct_rate</th>\n",
       "      <th>late_aircraft_ct_rate</th>\n",
       "      <th>carrier_delay_pct</th>\n",
       "      <th>weather_delay_pct</th>\n",
       "      <th>nas_delay_pct</th>\n",
       "      <th>security_delay_pct</th>\n",
       "      <th>late_aircraft_delay_pct</th>\n",
       "    </tr>\n",
       "  </thead>\n",
       "  <tbody>\n",
       "    <tr>\n",
       "      <th>0</th>\n",
       "      <td>-0.275487</td>\n",
       "      <td>-0.227006</td>\n",
       "      <td>-0.335683</td>\n",
       "      <td>-0.034579</td>\n",
       "      <td>-0.602944</td>\n",
       "      <td>-0.904036</td>\n",
       "      <td>0.946886</td>\n",
       "      <td>-0.052280</td>\n",
       "      <td>-0.133636</td>\n",
       "      <td>0.888917</td>\n",
       "      <td>-1.389285</td>\n",
       "      <td>4.196516</td>\n",
       "      <td>-0.579371</td>\n",
       "      <td>-0.109956</td>\n",
       "      <td>-0.062616</td>\n",
       "    </tr>\n",
       "    <tr>\n",
       "      <th>1</th>\n",
       "      <td>-0.302680</td>\n",
       "      <td>-0.272654</td>\n",
       "      <td>-0.197873</td>\n",
       "      <td>-0.365223</td>\n",
       "      <td>-0.649273</td>\n",
       "      <td>-0.794537</td>\n",
       "      <td>-0.469771</td>\n",
       "      <td>-0.994316</td>\n",
       "      <td>-0.133636</td>\n",
       "      <td>2.356686</td>\n",
       "      <td>-0.462616</td>\n",
       "      <td>-0.491962</td>\n",
       "      <td>-0.623819</td>\n",
       "      <td>-0.109956</td>\n",
       "      <td>1.486503</td>\n",
       "    </tr>\n",
       "    <tr>\n",
       "      <th>2</th>\n",
       "      <td>-0.302680</td>\n",
       "      <td>-0.275269</td>\n",
       "      <td>-0.197873</td>\n",
       "      <td>-0.127906</td>\n",
       "      <td>-0.616727</td>\n",
       "      <td>-0.446677</td>\n",
       "      <td>0.886486</td>\n",
       "      <td>-0.371614</td>\n",
       "      <td>-0.133636</td>\n",
       "      <td>0.717891</td>\n",
       "      <td>-1.299340</td>\n",
       "      <td>1.581242</td>\n",
       "      <td>-0.492816</td>\n",
       "      <td>-0.109956</td>\n",
       "      <td>1.172879</td>\n",
       "    </tr>\n",
       "    <tr>\n",
       "      <th>3</th>\n",
       "      <td>-0.298651</td>\n",
       "      <td>-0.225263</td>\n",
       "      <td>-0.012039</td>\n",
       "      <td>-0.142289</td>\n",
       "      <td>-0.605575</td>\n",
       "      <td>-0.288766</td>\n",
       "      <td>1.733155</td>\n",
       "      <td>0.602939</td>\n",
       "      <td>-0.133636</td>\n",
       "      <td>-0.833049</td>\n",
       "      <td>-0.193209</td>\n",
       "      <td>1.442265</td>\n",
       "      <td>0.458239</td>\n",
       "      <td>-0.109956</td>\n",
       "      <td>-0.761517</td>\n",
       "    </tr>\n",
       "    <tr>\n",
       "      <th>4</th>\n",
       "      <td>-0.272465</td>\n",
       "      <td>-0.214723</td>\n",
       "      <td>0.506797</td>\n",
       "      <td>-0.045361</td>\n",
       "      <td>-0.480333</td>\n",
       "      <td>-0.081756</td>\n",
       "      <td>-0.517359</td>\n",
       "      <td>-0.601733</td>\n",
       "      <td>-0.133636</td>\n",
       "      <td>1.160090</td>\n",
       "      <td>0.113886</td>\n",
       "      <td>-0.502588</td>\n",
       "      <td>-0.569837</td>\n",
       "      <td>-0.109956</td>\n",
       "      <td>0.818166</td>\n",
       "    </tr>\n",
       "  </tbody>\n",
       "</table>\n",
       "</div>"
      ],
      "text/plain": [
       "   arr_flights  arr_delay  delay_rate  cancel_rate  airport_month_volume  \\\n",
       "0    -0.275487  -0.227006   -0.335683    -0.034579             -0.602944   \n",
       "1    -0.302680  -0.272654   -0.197873    -0.365223             -0.649273   \n",
       "2    -0.302680  -0.275269   -0.197873    -0.127906             -0.616727   \n",
       "3    -0.298651  -0.225263   -0.012039    -0.142289             -0.605575   \n",
       "4    -0.272465  -0.214723    0.506797    -0.045361             -0.480333   \n",
       "\n",
       "   carrier_ct_rate  weather_ct_rate  nas_ct_rate  security_ct_rate  \\\n",
       "0        -0.904036         0.946886    -0.052280         -0.133636   \n",
       "1        -0.794537        -0.469771    -0.994316         -0.133636   \n",
       "2        -0.446677         0.886486    -0.371614         -0.133636   \n",
       "3        -0.288766         1.733155     0.602939         -0.133636   \n",
       "4        -0.081756        -0.517359    -0.601733         -0.133636   \n",
       "\n",
       "   late_aircraft_ct_rate  carrier_delay_pct  weather_delay_pct  nas_delay_pct  \\\n",
       "0               0.888917          -1.389285           4.196516      -0.579371   \n",
       "1               2.356686          -0.462616          -0.491962      -0.623819   \n",
       "2               0.717891          -1.299340           1.581242      -0.492816   \n",
       "3              -0.833049          -0.193209           1.442265       0.458239   \n",
       "4               1.160090           0.113886          -0.502588      -0.569837   \n",
       "\n",
       "   security_delay_pct  late_aircraft_delay_pct  \n",
       "0           -0.109956                -0.062616  \n",
       "1           -0.109956                 1.486503  \n",
       "2           -0.109956                 1.172879  \n",
       "3           -0.109956                -0.761517  \n",
       "4           -0.109956                 0.818166  "
      ]
     },
     "metadata": {},
     "output_type": "display_data"
    }
   ],
   "source": [
    "scale_cols = [\n",
    "    'arr_flights', 'arr_delay', 'delay_rate', 'cancel_rate', 'airport_month_volume'\n",
    "] + [f'{c}_rate' for c in cause_cols] + [f'{c}_pct' for c in delay_cols]\n",
    "\n",
    "scaler = StandardScaler()\n",
    "df[scale_cols] = scaler.fit_transform(df[scale_cols])\n",
    "\n",
    "print(\"\\nScaled numerical feature preview:\")\n",
    "display(df[scale_cols].head())\n"
   ]
  },
  {
   "cell_type": "markdown",
   "id": "c4f4452b",
   "metadata": {},
   "source": [
    "### Save the Preprocessed data set for later"
   ]
  },
  {
   "cell_type": "code",
   "execution_count": 111,
   "id": "e0d48286",
   "metadata": {},
   "outputs": [
    {
     "name": "stdout",
     "output_type": "stream",
     "text": [
      "Saved preprocessed dataset to 'Data/airline_delay_preprocessed.csv'\n"
     ]
    }
   ],
   "source": [
    "# Save to CSV\n",
    "df.to_csv(\"Data/airline_delay_preprocessed.csv\", index=False)\n",
    "print(\"Saved preprocessed dataset to 'Data/airline_delay_preprocessed.csv'\")"
   ]
  },
  {
   "cell_type": "markdown",
   "id": "5bf187e9",
   "metadata": {},
   "source": [
    "### Train-Test Split\n",
    "\n",
    "Split the dataset into training and testing sets using **stratified sampling** to preserve class distribution.\n",
    "\n",
    "This ensures that the `is_delayed` class proportions remain consistent across both sets.\n"
   ]
  },
  {
   "cell_type": "code",
   "execution_count": 112,
   "id": "ea572798",
   "metadata": {},
   "outputs": [
    {
     "name": "stdout",
     "output_type": "stream",
     "text": [
      "\n",
      "Train shape: (137140, 481), Test shape: (34286, 481)\n",
      "Target distribution in training set:\n",
      "is_delayed\n",
      "1    0.584738\n",
      "0    0.415262\n",
      "Name: proportion, dtype: float64\n"
     ]
    }
   ],
   "source": [
    "# Prepare X and y\n",
    "X = df.drop(columns=['arr_del15', 'is_delayed'])\n",
    "y = df['is_delayed']\n",
    "\n",
    "# Perform stratified train-test split\n",
    "X_train, X_test, y_train, y_test = train_test_split(\n",
    "    X, y, test_size=0.2, random_state=42, stratify=y\n",
    ")\n",
    "\n",
    "print(f\"\\nTrain shape: {X_train.shape}, Test shape: {X_test.shape}\")\n",
    "print(\"Target distribution in training set:\")\n",
    "print(y_train.value_counts(normalize=True))\n"
   ]
  },
  {
   "cell_type": "code",
   "execution_count": 113,
   "id": "cb59274f",
   "metadata": {},
   "outputs": [
    {
     "data": {
      "text/plain": [
       "<Axes: title={'center': 'Training Set Class Distribution'}, xlabel='is_delayed'>"
      ]
     },
     "execution_count": 113,
     "metadata": {},
     "output_type": "execute_result"
    },
    {
     "data": {
      "image/png": "[encoded data removed]",
      "text/plain": [
       "<Figure size 640x480 with 1 Axes>"
      ]
     },
     "metadata": {},
     "output_type": "display_data"
    }
   ],
   "source": [
    "y_train.value_counts(normalize=True).plot(kind='bar', title='Training Set Class Distribution')\n"
   ]
  }
 ],
 "metadata": {
  "kernelspec": {
   "display_name": "DSBC",
   "language": "python",
   "name": "python3"
  },
  "language_info": {
   "codemirror_mode": {
    "name": "ipython",
    "version": 3
   },
   "file_extension": ".py",
   "mimetype": "text/x-python",
   "name": "python",
   "nbconvert_exporter": "python",
   "pygments_lexer": "ipython3",
   "version": "3.12.10"
  }
 },
 "nbformat": 4,
 "nbformat_minor": 5
}
